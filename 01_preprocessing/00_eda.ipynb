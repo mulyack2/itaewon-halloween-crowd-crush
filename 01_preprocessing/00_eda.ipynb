{
 "cells": [
  {
   "cell_type": "code",
   "execution_count": 1,
   "metadata": {},
   "outputs": [],
   "source": [
    "from glob import glob"
   ]
  },
  {
   "cell_type": "code",
   "execution_count": 11,
   "metadata": {},
   "outputs": [
    {
     "data": {
      "text/plain": [
       "['./../data/raw/metro/서울교통공사 2017년 일별 역별 시간대별 승하차인원(1_8호선).xlsx',\n",
       " './../data/raw/metro/서울교통공사 2020년 일별 역별 시간대별 승하차인원(1_8호선).csv',\n",
       " './../data/raw/metro/서울교통공사 2021년 일별 역별 시간대별 승하차인원(1_8호선).csv',\n",
       " './../data/raw/metro/서울교통공사 2018년 일별 역별 시간대별 승하차인원(1_8호선).xlsx',\n",
       " './../data/raw/metro/서울교통공사 2019년 일별 역별 시간대별 승하차인원(1_8호선).xlsx',\n",
       " './../data/raw/metro/서울교통공사_역별 일별 시간대별 승하차인원 정보_20221231.csv']"
      ]
     },
     "execution_count": 11,
     "metadata": {},
     "output_type": "execute_result"
    }
   ],
   "source": [
    "# Metro\n",
    "glob(\"./../data/raw/metro/*\")"
   ]
  },
  {
   "cell_type": "code",
   "execution_count": 12,
   "metadata": {},
   "outputs": [
    {
     "data": {
      "text/plain": [
       "(3, 3)"
      ]
     },
     "execution_count": 12,
     "metadata": {},
     "output_type": "execute_result"
    }
   ],
   "source": [
    "len(glob(\"./../data/raw/metro/*.csv\")), len(glob(\"./../data/raw/metro/*.xlsx\"))"
   ]
  },
  {
   "cell_type": "code",
   "execution_count": 15,
   "metadata": {},
   "outputs": [
    {
     "data": {
      "text/plain": [
       "['./../data/raw/market/소상공인시장진흥공단_상가(상권)정보_20221231',\n",
       " './../data/raw/market/소상공인시장진흥공단_상가(상권)정보_20220930']"
      ]
     },
     "execution_count": 15,
     "metadata": {},
     "output_type": "execute_result"
    }
   ],
   "source": [
    "# Market\n",
    "glob(\"./../data/raw/market/*\")"
   ]
  },
  {
   "cell_type": "code",
   "execution_count": 16,
   "metadata": {},
   "outputs": [
    {
     "data": {
      "text/plain": [
       "['./../data/raw/population/LOCAL_PEOPLE_DONG_2021_상반기',\n",
       " './../data/raw/population/LOCAL_PEOPLE_DONG_2020_상반기',\n",
       " './../data/raw/population/LOCAL_PEOPLE_DONG_2020_하반기',\n",
       " './../data/raw/population/LOCAL_PEOPLE_DONG_2021_하반기',\n",
       " './../data/raw/population/LOCAL_PEOPLE_DONG_2022_상반기',\n",
       " './../data/raw/population/LOCAL_PEOPLE_DONG_2022_하반기']"
      ]
     },
     "execution_count": 16,
     "metadata": {},
     "output_type": "execute_result"
    }
   ],
   "source": [
    "# Population\n",
    "glob(\"./../data/raw/population/*\")"
   ]
  },
  {
   "cell_type": "code",
   "execution_count": 17,
   "metadata": {},
   "outputs": [
    {
     "data": {
      "text/plain": [
       "['./../data/raw/population/LOCAL_PEOPLE_DONG_2021_상반기/LOCAL_PEOPLE_DONG_202101.csv',\n",
       " './../data/raw/population/LOCAL_PEOPLE_DONG_2021_상반기/LOCAL_PEOPLE_DONG_202103.csv',\n",
       " './../data/raw/population/LOCAL_PEOPLE_DONG_2021_상반기/LOCAL_PEOPLE_DONG_202102.csv',\n",
       " './../data/raw/population/LOCAL_PEOPLE_DONG_2021_상반기/LOCAL_PEOPLE_DONG_202106.csv',\n",
       " './../data/raw/population/LOCAL_PEOPLE_DONG_2021_상반기/LOCAL_PEOPLE_DONG_202105.csv',\n",
       " './../data/raw/population/LOCAL_PEOPLE_DONG_2021_상반기/LOCAL_PEOPLE_DONG_202104.csv']"
      ]
     },
     "execution_count": 17,
     "metadata": {},
     "output_type": "execute_result"
    }
   ],
   "source": [
    "glob(\"./../data/raw/population/LOCAL_PEOPLE_DONG_2021_상반기/*\")"
   ]
  },
  {
   "cell_type": "code",
   "execution_count": null,
   "metadata": {},
   "outputs": [],
   "source": []
  }
 ],
 "metadata": {
  "kernelspec": {
   "display_name": "quant_trading",
   "language": "python",
   "name": "python3"
  },
  "language_info": {
   "codemirror_mode": {
    "name": "ipython",
    "version": 3
   },
   "file_extension": ".py",
   "mimetype": "text/x-python",
   "name": "python",
   "nbconvert_exporter": "python",
   "pygments_lexer": "ipython3",
   "version": "3.10.13"
  }
 },
 "nbformat": 4,
 "nbformat_minor": 2
}
