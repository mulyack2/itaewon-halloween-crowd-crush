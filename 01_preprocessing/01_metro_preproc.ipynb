{
 "cells": [
  {
   "cell_type": "code",
   "execution_count": 1,
   "metadata": {},
   "outputs": [],
   "source": [
    "from glob import glob\n",
    "\n",
    "import pandas as pd"
   ]
  },
  {
   "cell_type": "code",
   "execution_count": 2,
   "metadata": {},
   "outputs": [
    {
     "data": {
      "text/plain": [
       "['./../data/raw/metro/서울교통공사 2017년 일별 역별 시간대별 승하차인원(1_8호선).xlsx',\n",
       " './../data/raw/metro/서울교통공사 2020년 일별 역별 시간대별 승하차인원(1_8호선).csv',\n",
       " './../data/raw/metro/서울교통공사 2021년 일별 역별 시간대별 승하차인원(1_8호선).csv',\n",
       " './../data/raw/metro/서울교통공사 2018년 일별 역별 시간대별 승하차인원(1_8호선).xlsx',\n",
       " './../data/raw/metro/서울교통공사 2019년 일별 역별 시간대별 승하차인원(1_8호선).xlsx',\n",
       " './../data/raw/metro/서울교통공사_역별 일별 시간대별 승하차인원 정보_20221231.csv']"
      ]
     },
     "execution_count": 2,
     "metadata": {},
     "output_type": "execute_result"
    }
   ],
   "source": [
    "# Metro\n",
    "glob(\"./../data/raw/metro/*\")"
   ]
  },
  {
   "cell_type": "code",
   "execution_count": 3,
   "metadata": {},
   "outputs": [],
   "source": [
    "csv_file_paths = glob(\"./../data/raw/metro/*.csv\")\n",
    "xlsx_file_paths = glob(\"./../data/raw/metro/*.xlsx\")"
   ]
  },
  {
   "cell_type": "code",
   "execution_count": 4,
   "metadata": {},
   "outputs": [
    {
     "name": "stderr",
     "output_type": "stream",
     "text": [
      "/var/folders/c4/g1mnjj6x6d1_205z6bzrtjr80000gn/T/ipykernel_37560/866464934.py:3: DtypeWarning: Columns (3) have mixed types. Specify dtype option on import or set low_memory=False.\n",
      "  _csv_sample = pd.read_csv(csv_file_path, encoding=\"cp949\")\n"
     ]
    }
   ],
   "source": [
    "csv_file_columns = list()\n",
    "for csv_file_path in csv_file_paths:\n",
    "    _csv_sample = pd.read_csv(csv_file_path, encoding=\"cp949\")\n",
    "    csv_file_columns.append(_csv_sample.columns)\n",
    "    del _csv_sample"
   ]
  },
  {
   "cell_type": "code",
   "execution_count": 5,
   "metadata": {},
   "outputs": [
    {
     "data": {
      "text/plain": [
       "[Index(['날짜', '호선', '역번호', '역명', '구분', '06:00 이전', '06:00 ~ 07:00',\n",
       "        '07:00 ~ 08:00', '08:00 ~ 09:00', '09:00 ~ 10:00', '10:00 ~ 11:00',\n",
       "        '11:00 ~ 12:00', '12:00 ~ 13:00', '13:00 ~ 14:00', '14:00 ~ 15:00',\n",
       "        '15:00 ~ 16:00', '16:00 ~ 17:00', '17:00 ~ 18:00', '18:00 ~ 19:00',\n",
       "        '19:00 ~ 20:00', '20:00 ~ 21:00', '21:00 ~ 22:00', '22:00 ~ 23:00',\n",
       "        '23:00 ~ 24:00', '24:00 이후'],\n",
       "       dtype='object'),\n",
       " Index(['연번', '날짜', '호선', '역번호', '역명', '구분', '06시 이전', '06시-07시', '07시-08시',\n",
       "        '08시-09시', '09시-10시', '10시-11시', '11시-12시', '12시-13시', '13시-14시',\n",
       "        '14시-15시', '15시-16시', '16시-17시', '17시-18시', '18시-19시', '19시-20시',\n",
       "        '20시-21시', '21시-22시', '22시-23시', '23시 이후', '합 계'],\n",
       "       dtype='object'),\n",
       " Index(['연번', '수송일자', '호선', '고유역번호(외부역코드)', '역명', '승하차구분', '06시이전', '06-07시간대',\n",
       "        '07-08시간대', '08-09시간대', '09-10시간대', '10-11시간대', '11-12시간대', '12-13시간대',\n",
       "        '13-14시간대', '14-15시간대', '15-16시간대', '16-17시간대', '17-18시간대', '18-19시간대',\n",
       "        '19-20시간대', '20-21시간대', '21-22시간대', '22-23시간대', '23-24시간대', '24시이후'],\n",
       "       dtype='object')]"
      ]
     },
     "execution_count": 5,
     "metadata": {},
     "output_type": "execute_result"
    }
   ],
   "source": [
    "csv_file_columns"
   ]
  },
  {
   "cell_type": "code",
   "execution_count": 6,
   "metadata": {},
   "outputs": [],
   "source": [
    "xlsx_file_columns = list()\n",
    "for xlsx_file_path in xlsx_file_paths:\n",
    "    _xlsx_sample = pd.read_excel(xlsx_file_path, header=[1])\n",
    "    xlsx_file_columns.append(_xlsx_sample.columns)\n",
    "    del _xlsx_sample"
   ]
  },
  {
   "cell_type": "code",
   "execution_count": 7,
   "metadata": {},
   "outputs": [
    {
     "data": {
      "text/plain": [
       "[Index(['날짜', '구분', '호선', '역번호', '역명', '구분.1', '05~06', '06~07', '07~08',\n",
       "        '08~09', '09~10', '10~11', '11~12', '12~13', '13~14', '14~15', '15~16',\n",
       "        '16~17', '17~18', '18~19', '19~20', '20~21', '21~22', '22~23', '23~24',\n",
       "        '00 ~ 01', '합 계'],\n",
       "       dtype='object'),\n",
       " Index(['날짜', '호선', '역번호', '역명', '구분', '05 ~ 06', '06 ~ 07', '07 ~ 08',\n",
       "        '08 ~ 09', '09 ~ 10', '10 ~ 11', '11 ~ 12', '12 ~ 13', '13 ~ 14',\n",
       "        '14 ~ 15', '15 ~ 16', '16 ~ 17', '17 ~ 18', '18 ~ 19', '19 ~ 20',\n",
       "        '20 ~ 21', '21 ~ 22', '22 ~ 23', '23 ~ 24', '00 ~ 01', '합 계'],\n",
       "       dtype='object'),\n",
       " Index(['날짜', '호선', '역번호', '역명', '구분', '06시 이전', '06 ~ 07', '07 ~ 08',\n",
       "        '08 ~ 09', '09 ~ 10', '10 ~ 11', '11 ~ 12', '12 ~ 13', '13 ~ 14',\n",
       "        '14 ~ 15', '15 ~ 16', '16 ~ 17', '17 ~ 18', '18 ~ 19', '19 ~ 20',\n",
       "        '20 ~ 21', '21 ~ 22', '22 ~ 23', '23 ~ 24', '24시 이후', '합 계'],\n",
       "       dtype='object')]"
      ]
     },
     "execution_count": 7,
     "metadata": {},
     "output_type": "execute_result"
    }
   ],
   "source": [
    "xlsx_file_columns"
   ]
  },
  {
   "cell_type": "code",
   "execution_count": 38,
   "metadata": {},
   "outputs": [],
   "source": [
    "target_column = [\n",
    "    \"날짜\",\n",
    "    \"호선\",\n",
    "    \"역번호\",\n",
    "    \"역명\",\n",
    "    \"구분\",\n",
    "    \"05~06\",\n",
    "    \"06~07\",\n",
    "    \"07~08\",\n",
    "    \"08~09\",\n",
    "    \"09~10\",\n",
    "    \"10~11\",\n",
    "    \"11~12\",\n",
    "    \"12~13\",\n",
    "    \"13~14\",\n",
    "    \"14~15\",\n",
    "    \"15~16\",\n",
    "    \"16~17\",\n",
    "    \"17~18\",\n",
    "    \"18~19\",\n",
    "    \"19~20\",\n",
    "    \"20~21\",\n",
    "    \"21~22\",\n",
    "    \"22~23\",\n",
    "    \"23~24\",\n",
    "    \"00~01\",\n",
    "]"
   ]
  },
  {
   "cell_type": "code",
   "execution_count": 39,
   "metadata": {},
   "outputs": [],
   "source": [
    "def is_df_target_column(df):\n",
    "    if all(df.columns == target_column):\n",
    "        return True\n",
    "    else:\n",
    "        return False"
   ]
  },
  {
   "cell_type": "code",
   "execution_count": 40,
   "metadata": {},
   "outputs": [],
   "source": [
    "# xlsx를 기준으로 column 전처리를 진행한다."
   ]
  },
  {
   "cell_type": "code",
   "execution_count": 41,
   "metadata": {},
   "outputs": [],
   "source": [
    "xlsx_file_paths = sorted(glob(\"./../data/raw/metro/*.xlsx\"))"
   ]
  },
  {
   "cell_type": "code",
   "execution_count": 42,
   "metadata": {},
   "outputs": [
    {
     "data": {
      "text/plain": [
       "'./../data/raw/metro/서울교통공사 2017년 일별 역별 시간대별 승하차인원(1_8호선).xlsx'"
      ]
     },
     "execution_count": 42,
     "metadata": {},
     "output_type": "execute_result"
    }
   ],
   "source": [
    "xlsx_file_path = xlsx_file_paths[0]\n",
    "xlsx_file_path"
   ]
  },
  {
   "cell_type": "code",
   "execution_count": 43,
   "metadata": {},
   "outputs": [],
   "source": [
    "raw_df_2017 = pd.read_excel(xlsx_file_path, header=[1])\n",
    "\n",
    "df_2017 = raw_df_2017.copy()\n",
    "df_2017.columns = [col.replace(\" \", \"\") for col in df_2017.columns]\n",
    "df_2017 = df_2017.drop(columns=[\"구분\",'합계']).rename(columns={\"구분.1\": \"구분\"})\n",
    "df_2017[\"날짜\"] = pd.to_datetime(df_2017[\"날짜\"])"
   ]
  },
  {
   "cell_type": "code",
   "execution_count": 44,
   "metadata": {},
   "outputs": [],
   "source": [
    "if is_df_target_column(df_2017):\n",
    "    df_2017.to_csv(\"./../data/preproc/metro/metro_2017.csv\")\n",
    "else:\n",
    "    print(\"preproc required\")"
   ]
  },
  {
   "cell_type": "code",
   "execution_count": 45,
   "metadata": {},
   "outputs": [
    {
     "data": {
      "text/plain": [
       "'./../data/raw/metro/서울교통공사 2018년 일별 역별 시간대별 승하차인원(1_8호선).xlsx'"
      ]
     },
     "execution_count": 45,
     "metadata": {},
     "output_type": "execute_result"
    }
   ],
   "source": [
    "xlsx_file_path = xlsx_file_paths[1]\n",
    "xlsx_file_path"
   ]
  },
  {
   "cell_type": "code",
   "execution_count": 46,
   "metadata": {},
   "outputs": [],
   "source": [
    "raw_df_2018 = pd.read_excel(xlsx_file_path, header=[1])"
   ]
  },
  {
   "cell_type": "code",
   "execution_count": 47,
   "metadata": {},
   "outputs": [],
   "source": [
    "df_2018 = raw_df_2018.copy()\n",
    "df_2018.columns = [col.replace(\" \", \"\") for col in df_2018.columns]\n",
    "df_2018 = df_2018.drop(columns=[\"합계\"])"
   ]
  },
  {
   "cell_type": "code",
   "execution_count": 48,
   "metadata": {},
   "outputs": [],
   "source": [
    "if is_df_target_column(df_2018):\n",
    "    df_2018.to_csv(\"./../data/preproc/metro/metro_2018.csv\")\n",
    "else:\n",
    "    print(\"preproc required\")"
   ]
  },
  {
   "cell_type": "code",
   "execution_count": 50,
   "metadata": {},
   "outputs": [
    {
     "data": {
      "text/plain": [
       "'./../data/raw/metro/서울교통공사 2019년 일별 역별 시간대별 승하차인원(1_8호선).xlsx'"
      ]
     },
     "execution_count": 50,
     "metadata": {},
     "output_type": "execute_result"
    }
   ],
   "source": [
    "xlsx_file_path = xlsx_file_paths[2]\n",
    "xlsx_file_path"
   ]
  },
  {
   "cell_type": "code",
   "execution_count": 51,
   "metadata": {},
   "outputs": [],
   "source": [
    "raw_df_2019 = pd.read_excel(xlsx_file_path, header=[1])"
   ]
  },
  {
   "cell_type": "code",
   "execution_count": 62,
   "metadata": {},
   "outputs": [],
   "source": [
    "df_2019 = raw_df_2019.copy()\n",
    "df_2019.columns = [col.replace(\" \", \"\") for col in df_2019.columns]\n",
    "df_2019 = df_2019.rename(columns={\"06시이전\": \"05~06\", \"24시이후\": \"00~01\"})\n",
    "df_2019 = df_2019.drop(columns=[\"합계\"])"
   ]
  },
  {
   "cell_type": "code",
   "execution_count": 64,
   "metadata": {},
   "outputs": [],
   "source": [
    "if is_df_target_column(df_2019):\n",
    "    df_2019.to_csv(\"./../data/preproc/metro/metro_2019.csv\")\n",
    "else:\n",
    "    print(\"preproc required\")"
   ]
  },
  {
   "cell_type": "code",
   "execution_count": 65,
   "metadata": {},
   "outputs": [],
   "source": [
    "csv_file_paths = sorted(glob(\"./../data/raw/metro/*.csv\"))"
   ]
  },
  {
   "cell_type": "code",
   "execution_count": 76,
   "metadata": {},
   "outputs": [
    {
     "data": {
      "text/plain": [
       "'./../data/raw/metro/서울교통공사 2020년 일별 역별 시간대별 승하차인원(1_8호선).csv'"
      ]
     },
     "execution_count": 76,
     "metadata": {},
     "output_type": "execute_result"
    }
   ],
   "source": [
    "csv_file_path = csv_file_paths[0]\n",
    "csv_file_path"
   ]
  },
  {
   "cell_type": "code",
   "execution_count": 77,
   "metadata": {},
   "outputs": [],
   "source": [
    "raw_df_2020 = pd.read_csv(csv_file_path, encoding=\"cp949\")"
   ]
  },
  {
   "cell_type": "code",
   "execution_count": 78,
   "metadata": {},
   "outputs": [],
   "source": [
    "df_2020 = raw_df_2020.copy()\n",
    "\n",
    "_rename_dict = {\n",
    "    \"06:00 이전\": \"05~06\",\n",
    "    \"06:00 ~ 07:00\": \"06~07\",\n",
    "    \"07:00 ~ 08:00\": \"07~08\",\n",
    "    \"08:00 ~ 09:00\": \"08~09\",\n",
    "    \"09:00 ~ 10:00\": \"09~10\",\n",
    "    \"10:00 ~ 11:00\": \"10~11\",\n",
    "    \"11:00 ~ 12:00\": \"11~12\",\n",
    "    \"12:00 ~ 13:00\": \"12~13\",\n",
    "    \"13:00 ~ 14:00\": \"13~14\",\n",
    "    \"14:00 ~ 15:00\": \"14~15\",\n",
    "    \"15:00 ~ 16:00\": \"15~16\",\n",
    "    \"16:00 ~ 17:00\": \"16~17\",\n",
    "    \"17:00 ~ 18:00\": \"17~18\",\n",
    "    \"18:00 ~ 19:00\": \"18~19\",\n",
    "    \"19:00 ~ 20:00\": \"19~20\",\n",
    "    \"20:00 ~ 21:00\": \"20~21\",\n",
    "    \"21:00 ~ 22:00\": \"21~22\",\n",
    "    \"22:00 ~ 23:00\": \"22~23\",\n",
    "    \"23:00 ~ 24:00\": \"23~24\",\n",
    "    \"24:00 이후\": \"00~01\",\n",
    "}\n",
    "df_2020 = df_2020.rename(columns=_rename_dict)"
   ]
  },
  {
   "cell_type": "code",
   "execution_count": 79,
   "metadata": {},
   "outputs": [],
   "source": [
    "if is_df_target_column(df_2020):\n",
    "    df_2020.to_csv(\"./../data/preproc/metro/metro_2020.csv\")\n",
    "else:\n",
    "    print(\"preproc required\")"
   ]
  },
  {
   "cell_type": "code",
   "execution_count": 80,
   "metadata": {},
   "outputs": [
    {
     "data": {
      "text/plain": [
       "'./../data/raw/metro/서울교통공사 2021년 일별 역별 시간대별 승하차인원(1_8호선).csv'"
      ]
     },
     "execution_count": 80,
     "metadata": {},
     "output_type": "execute_result"
    }
   ],
   "source": [
    "csv_file_path = csv_file_paths[1]\n",
    "csv_file_path"
   ]
  },
  {
   "cell_type": "code",
   "execution_count": 81,
   "metadata": {},
   "outputs": [],
   "source": [
    "raw_df_2021 = pd.read_csv(csv_file_path, encoding=\"cp949\")"
   ]
  },
  {
   "cell_type": "code",
   "execution_count": 94,
   "metadata": {},
   "outputs": [],
   "source": [
    "df_2021 = raw_df_2021.copy()\n",
    "df_2021.columns = [col.replace(\" \", \"\") for col in df_2021.columns]\n",
    "df_2021 = df_2021.drop(columns=[\"연번\", \"합계\"])\n",
    "\n",
    "_rename_dict = {\n",
    "    \"06시이전\": \"05~06\",\n",
    "    \"06시-07시\": \"06~07\",\n",
    "    \"07시-08시\": \"07~08\",\n",
    "    \"08시-09시\": \"08~09\",\n",
    "    \"09시-10시\": \"09~10\",\n",
    "    \"10시-11시\": \"10~11\",\n",
    "    \"11시-12시\": \"11~12\",\n",
    "    \"12시-13시\": \"12~13\",\n",
    "    \"13시-14시\": \"13~14\",\n",
    "    \"14시-15시\": \"14~15\",\n",
    "    \"15시-16시\": \"15~16\",\n",
    "    \"16시-17시\": \"16~17\",\n",
    "    \"17시-18시\": \"17~18\",\n",
    "    \"18시-19시\": \"18~19\",\n",
    "    \"19시-20시\": \"19~20\",\n",
    "    \"20시-21시\": \"20~21\",\n",
    "    \"21시-22시\": \"21~22\",\n",
    "    \"22시-23시\": \"22~23\",\n",
    "    \"23시이후\": \"23~24\",\n",
    "}\n",
    "df_2021 = df_2021.rename(columns=_rename_dict)\n",
    "df_2021[\"00~01\"] = 0"
   ]
  },
  {
   "cell_type": "code",
   "execution_count": 96,
   "metadata": {},
   "outputs": [],
   "source": [
    "if is_df_target_column(df_2021):\n",
    "    df_2021.to_csv(\"./../data/preproc/metro/metro_2021.csv\")\n",
    "else:\n",
    "    print(\"preproc required\")"
   ]
  },
  {
   "cell_type": "code",
   "execution_count": 97,
   "metadata": {},
   "outputs": [
    {
     "data": {
      "text/plain": [
       "'./../data/raw/metro/서울교통공사_역별 일별 시간대별 승하차인원 정보_20221231.csv'"
      ]
     },
     "execution_count": 97,
     "metadata": {},
     "output_type": "execute_result"
    }
   ],
   "source": [
    "csv_file_path = csv_file_paths[2]\n",
    "csv_file_path"
   ]
  },
  {
   "cell_type": "code",
   "execution_count": 103,
   "metadata": {},
   "outputs": [],
   "source": [
    "raw_df_2022 = pd.read_csv(csv_file_path, encoding=\"cp949\", low_memory=False)"
   ]
  },
  {
   "cell_type": "code",
   "execution_count": 104,
   "metadata": {},
   "outputs": [],
   "source": [
    "df_2022 = raw_df_2022.copy()\n",
    "\n",
    "df_2022.columns = [col.replace(\" \", \"\") for col in df_2022.columns]\n",
    "df_2022 = df_2022.drop(columns=[\"연번\"])\n",
    "df_2022.columns = target_column"
   ]
  },
  {
   "cell_type": "code",
   "execution_count": 106,
   "metadata": {},
   "outputs": [],
   "source": [
    "if is_df_target_column(df_2022):\n",
    "    df_2022.to_csv(\"./../data/preproc/metro/metro_2022.csv\")\n",
    "else:\n",
    "    print(\"preproc required\")"
   ]
  },
  {
   "cell_type": "code",
   "execution_count": null,
   "metadata": {},
   "outputs": [],
   "source": []
  }
 ],
 "metadata": {
  "kernelspec": {
   "display_name": "quant_trading",
   "language": "python",
   "name": "python3"
  },
  "language_info": {
   "codemirror_mode": {
    "name": "ipython",
    "version": 3
   },
   "file_extension": ".py",
   "mimetype": "text/x-python",
   "name": "python",
   "nbconvert_exporter": "python",
   "pygments_lexer": "ipython3",
   "version": "3.10.13"
  }
 },
 "nbformat": 4,
 "nbformat_minor": 2
}
