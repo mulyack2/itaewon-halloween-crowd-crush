{
 "cells": [
  {
   "cell_type": "code",
   "execution_count": 1,
   "metadata": {},
   "outputs": [],
   "source": [
    "from glob import glob\n",
    "\n",
    "import pandas as pd"
   ]
  },
  {
   "cell_type": "code",
   "execution_count": 2,
   "metadata": {},
   "outputs": [
    {
     "data": {
      "text/plain": [
       "['./../data/raw/population/LOCAL_PEOPLE_DONG_2020_상반기',\n",
       " './../data/raw/population/LOCAL_PEOPLE_DONG_2020_하반기',\n",
       " './../data/raw/population/LOCAL_PEOPLE_DONG_2021_상반기',\n",
       " './../data/raw/population/LOCAL_PEOPLE_DONG_2021_하반기',\n",
       " './../data/raw/population/LOCAL_PEOPLE_DONG_2022_상반기',\n",
       " './../data/raw/population/LOCAL_PEOPLE_DONG_2022_하반기']"
      ]
     },
     "execution_count": 2,
     "metadata": {},
     "output_type": "execute_result"
    }
   ],
   "source": [
    "# Population\n",
    "population_dir_paths = sorted(glob(\"./../data/raw/population/*\"))\n",
    "population_dir_paths"
   ]
  },
  {
   "cell_type": "code",
   "execution_count": 3,
   "metadata": {},
   "outputs": [
    {
     "name": "stderr",
     "output_type": "stream",
     "text": [
      "/var/folders/c4/g1mnjj6x6d1_205z6bzrtjr80000gn/T/ipykernel_38089/2980280081.py:10: ParserWarning: Length of header or names does not match length of data. This leads to a loss of data with index_col=False.\n",
      "  df = pd.read_csv(population_2020_file_path, index_col=False)\n"
     ]
    }
   ],
   "source": [
    "population_2020_dir_paths = list(\n",
    "    filter(lambda x: \"2020\" in x, population_dir_paths)\n",
    ")\n",
    "df_2020_list = list()\n",
    "for population_2020_dir_path in population_2020_dir_paths:\n",
    "    population_2020_file_paths = sorted(\n",
    "        glob(population_2020_dir_path + \"/*.csv\")\n",
    "    )\n",
    "    for population_2020_file_path in population_2020_file_paths:\n",
    "        df = pd.read_csv(population_2020_file_path, index_col=False)\n",
    "        df_2020_list.append(df)\n",
    "\n",
    "df_2020 = pd.concat(df_2020_list, axis=0)"
   ]
  },
  {
   "cell_type": "code",
   "execution_count": 4,
   "metadata": {},
   "outputs": [],
   "source": [
    "df_2020.to_csv(\"./../data/preproc/population/2020_df.csv\")"
   ]
  },
  {
   "cell_type": "code",
   "execution_count": 5,
   "metadata": {},
   "outputs": [],
   "source": [
    "population_2021_dir_paths = list(\n",
    "    filter(lambda x: \"2021\" in x, population_dir_paths)\n",
    ")\n",
    "df_2021_list = list()\n",
    "for population_2021_dir_path in population_2021_dir_paths:\n",
    "    population_2021_file_paths = sorted(\n",
    "        glob(population_2021_dir_path + \"/*.csv\")\n",
    "    )\n",
    "    for population_2021_file_path in population_2021_file_paths:\n",
    "        df = pd.read_csv(population_2021_file_path, index_col=False)\n",
    "        df_2021_list.append(df)\n",
    "df_2021 = pd.concat(df_2021_list, axis=0)"
   ]
  },
  {
   "cell_type": "code",
   "execution_count": 6,
   "metadata": {},
   "outputs": [],
   "source": [
    "df_2021.to_csv(\"./../data/preproc/population/2021_df.csv\")"
   ]
  },
  {
   "cell_type": "code",
   "execution_count": 7,
   "metadata": {},
   "outputs": [],
   "source": [
    "population_2022_dir_paths = list(\n",
    "    filter(lambda x: \"2022\" in x, population_dir_paths)\n",
    ")\n",
    "df_2022_list = list()\n",
    "for population_2022_dir_path in population_2022_dir_paths:\n",
    "    population_2022_file_paths = sorted(\n",
    "        glob(population_2022_dir_path + \"/*.csv\")\n",
    "    )\n",
    "    for population_2022_file_path in population_2022_file_paths:\n",
    "        df = pd.read_csv(population_2022_file_path, index_col=False)\n",
    "        df_2022_list.append(df)\n",
    "df_2022 = pd.concat(df_2022_list, axis=0)"
   ]
  },
  {
   "cell_type": "code",
   "execution_count": 8,
   "metadata": {},
   "outputs": [],
   "source": [
    "df_2022.to_csv(\"./../data/preproc/population/2022_df.csv\")"
   ]
  }
 ],
 "metadata": {
  "kernelspec": {
   "display_name": "quant_trading",
   "language": "python",
   "name": "python3"
  },
  "language_info": {
   "codemirror_mode": {
    "name": "ipython",
    "version": 3
   },
   "file_extension": ".py",
   "mimetype": "text/x-python",
   "name": "python",
   "nbconvert_exporter": "python",
   "pygments_lexer": "ipython3",
   "version": "3.10.13"
  }
 },
 "nbformat": 4,
 "nbformat_minor": 2
}
