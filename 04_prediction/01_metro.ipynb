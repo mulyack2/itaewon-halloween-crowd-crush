{
 "cells": [
  {
   "cell_type": "code",
   "execution_count": 1,
   "metadata": {},
   "outputs": [],
   "source": [
    "import pandas as pd"
   ]
  },
  {
   "cell_type": "code",
   "execution_count": 2,
   "metadata": {},
   "outputs": [],
   "source": [
    "# metro\n",
    "metro_df = pd.read_csv(\n",
    "    \"./../data/preproc/metro/metro_v1_final.csv\", index_col=0\n",
    ")"
   ]
  },
  {
   "cell_type": "code",
   "execution_count": 3,
   "metadata": {},
   "outputs": [],
   "source": [
    "metro_df[\"날짜\"] = pd.to_datetime(metro_df[\"날짜\"])"
   ]
  },
  {
   "cell_type": "code",
   "execution_count": 4,
   "metadata": {},
   "outputs": [],
   "source": [
    "# metro\n",
    "station_location_df = pd.read_csv(\n",
    "    \"./../data/asset/서울교통공사 역주소 및 전화번호_20230831.csv\",\n",
    "    encoding=\"cp949\",\n",
    ")"
   ]
  },
  {
   "cell_type": "code",
   "execution_count": 5,
   "metadata": {},
   "outputs": [],
   "source": [
    "class CustomDict(dict):\n",
    "    def __missing__(self,key):\n",
    "        return key\n",
    "\n",
    "_rename_dict = CustomDict()\n",
    "_rename_dict[\"서울\"] = \"서울역\""
   ]
  },
  {
   "cell_type": "code",
   "execution_count": 6,
   "metadata": {},
   "outputs": [],
   "source": [
    "station_location_df['역명'] = station_location_df['역명'].apply(lambda x : _rename_dict[x])\n",
    "station_location_df['지번주소'] = station_location_df['지번주소'].apply(lambda x : '_'.join(x.split()[:3]))\n",
    "\n",
    "station_location_dict = station_location_df.set_index(\"역명\")['지번주소'].to_dict()"
   ]
  },
  {
   "cell_type": "code",
   "execution_count": 7,
   "metadata": {},
   "outputs": [],
   "source": [
    "metro_df.index = metro_df.index.map(station_location_dict)\n",
    "metro_df = metro_df.reset_index()\n",
    "metro_df['year'] = metro_df['날짜'].apply(lambda x : x.year)"
   ]
  },
  {
   "cell_type": "code",
   "execution_count": 8,
   "metadata": {},
   "outputs": [],
   "source": [
    "metro_df = (\n",
    "    metro_df.dropna().sort_values(\"total_out\").groupby([\"역명\", \"year\"]).tail(1)\n",
    ")"
   ]
  },
  {
   "cell_type": "code",
   "execution_count": 9,
   "metadata": {},
   "outputs": [],
   "source": [
    "metro_df.columns = [\"location\", \"date\", \"score\", \"year\"]"
   ]
  },
  {
   "cell_type": "code",
   "execution_count": 10,
   "metadata": {},
   "outputs": [],
   "source": [
    "pivot_df = (\n",
    "    metro_df.reset_index()\n",
    "    .pivot(index=\"location\", values=\"score\", columns=\"year\")\n",
    "    .fillna(0)\n",
    ")"
   ]
  },
  {
   "cell_type": "code",
   "execution_count": 11,
   "metadata": {},
   "outputs": [],
   "source": [
    "metro_df = pivot_df"
   ]
  },
  {
   "cell_type": "code",
   "execution_count": 12,
   "metadata": {},
   "outputs": [
    {
     "data": {
      "text/html": [
       "<div>\n",
       "<style scoped>\n",
       "    .dataframe tbody tr th:only-of-type {\n",
       "        vertical-align: middle;\n",
       "    }\n",
       "\n",
       "    .dataframe tbody tr th {\n",
       "        vertical-align: top;\n",
       "    }\n",
       "\n",
       "    .dataframe thead th {\n",
       "        text-align: right;\n",
       "    }\n",
       "</style>\n",
       "<table border=\"1\" class=\"dataframe\">\n",
       "  <thead>\n",
       "    <tr style=\"text-align: right;\">\n",
       "      <th>year</th>\n",
       "      <th>2017</th>\n",
       "      <th>2018</th>\n",
       "      <th>2019</th>\n",
       "      <th>2020</th>\n",
       "      <th>2021</th>\n",
       "      <th>2022</th>\n",
       "    </tr>\n",
       "    <tr>\n",
       "      <th>location</th>\n",
       "      <th></th>\n",
       "      <th></th>\n",
       "      <th></th>\n",
       "      <th></th>\n",
       "      <th></th>\n",
       "      <th></th>\n",
       "    </tr>\n",
       "  </thead>\n",
       "  <tbody>\n",
       "    <tr>\n",
       "      <th>경기도_고양시_덕양구</th>\n",
       "      <td>1.393408</td>\n",
       "      <td>1.310458</td>\n",
       "      <td>1.470133</td>\n",
       "      <td>1.401607</td>\n",
       "      <td>1.359967</td>\n",
       "      <td>1.522072</td>\n",
       "    </tr>\n",
       "    <tr>\n",
       "      <th>경기도_광명시_광명동</th>\n",
       "      <td>1.192534</td>\n",
       "      <td>1.216496</td>\n",
       "      <td>1.207054</td>\n",
       "      <td>1.509130</td>\n",
       "      <td>1.244506</td>\n",
       "      <td>1.309381</td>\n",
       "    </tr>\n",
       "    <tr>\n",
       "      <th>경기도_광명시_철산동</th>\n",
       "      <td>1.289224</td>\n",
       "      <td>1.288180</td>\n",
       "      <td>1.315625</td>\n",
       "      <td>1.550433</td>\n",
       "      <td>1.318775</td>\n",
       "      <td>1.368058</td>\n",
       "    </tr>\n",
       "    <tr>\n",
       "      <th>경기도_성남시_수정구</th>\n",
       "      <td>1.678033</td>\n",
       "      <td>1.783348</td>\n",
       "      <td>1.974753</td>\n",
       "      <td>1.841216</td>\n",
       "      <td>1.703500</td>\n",
       "      <td>1.689261</td>\n",
       "    </tr>\n",
       "    <tr>\n",
       "      <th>경기도_의정부시_장암동</th>\n",
       "      <td>1.856264</td>\n",
       "      <td>1.847157</td>\n",
       "      <td>1.713237</td>\n",
       "      <td>1.705467</td>\n",
       "      <td>1.506951</td>\n",
       "      <td>1.614401</td>\n",
       "    </tr>\n",
       "    <tr>\n",
       "      <th>...</th>\n",
       "      <td>...</td>\n",
       "      <td>...</td>\n",
       "      <td>...</td>\n",
       "      <td>...</td>\n",
       "      <td>...</td>\n",
       "      <td>...</td>\n",
       "    </tr>\n",
       "    <tr>\n",
       "      <th>서울특별시_중랑구_면목동</th>\n",
       "      <td>1.386639</td>\n",
       "      <td>1.281403</td>\n",
       "      <td>1.282092</td>\n",
       "      <td>1.376933</td>\n",
       "      <td>1.293595</td>\n",
       "      <td>1.352534</td>\n",
       "    </tr>\n",
       "    <tr>\n",
       "      <th>서울특별시_중랑구_묵동</th>\n",
       "      <td>1.347463</td>\n",
       "      <td>1.272394</td>\n",
       "      <td>1.351765</td>\n",
       "      <td>1.452952</td>\n",
       "      <td>1.251996</td>\n",
       "      <td>1.306771</td>\n",
       "    </tr>\n",
       "    <tr>\n",
       "      <th>서울특별시_중랑구_상봉동</th>\n",
       "      <td>1.230678</td>\n",
       "      <td>1.246334</td>\n",
       "      <td>1.261111</td>\n",
       "      <td>1.463706</td>\n",
       "      <td>1.275123</td>\n",
       "      <td>1.296504</td>\n",
       "    </tr>\n",
       "    <tr>\n",
       "      <th>서울특별시_중랑구_신내동</th>\n",
       "      <td>1.812268</td>\n",
       "      <td>1.254905</td>\n",
       "      <td>1.232912</td>\n",
       "      <td>1.552723</td>\n",
       "      <td>1.288528</td>\n",
       "      <td>1.323537</td>\n",
       "    </tr>\n",
       "    <tr>\n",
       "      <th>서울특별시_중랑구_중화동</th>\n",
       "      <td>1.437059</td>\n",
       "      <td>1.507768</td>\n",
       "      <td>1.454509</td>\n",
       "      <td>1.448714</td>\n",
       "      <td>1.259150</td>\n",
       "      <td>1.306081</td>\n",
       "    </tr>\n",
       "  </tbody>\n",
       "</table>\n",
       "<p>164 rows × 6 columns</p>\n",
       "</div>"
      ],
      "text/plain": [
       "year               2017      2018      2019      2020      2021      2022\n",
       "location                                                                 \n",
       "경기도_고양시_덕양구    1.393408  1.310458  1.470133  1.401607  1.359967  1.522072\n",
       "경기도_광명시_광명동    1.192534  1.216496  1.207054  1.509130  1.244506  1.309381\n",
       "경기도_광명시_철산동    1.289224  1.288180  1.315625  1.550433  1.318775  1.368058\n",
       "경기도_성남시_수정구    1.678033  1.783348  1.974753  1.841216  1.703500  1.689261\n",
       "경기도_의정부시_장암동   1.856264  1.847157  1.713237  1.705467  1.506951  1.614401\n",
       "...                 ...       ...       ...       ...       ...       ...\n",
       "서울특별시_중랑구_면목동  1.386639  1.281403  1.282092  1.376933  1.293595  1.352534\n",
       "서울특별시_중랑구_묵동   1.347463  1.272394  1.351765  1.452952  1.251996  1.306771\n",
       "서울특별시_중랑구_상봉동  1.230678  1.246334  1.261111  1.463706  1.275123  1.296504\n",
       "서울특별시_중랑구_신내동  1.812268  1.254905  1.232912  1.552723  1.288528  1.323537\n",
       "서울특별시_중랑구_중화동  1.437059  1.507768  1.454509  1.448714  1.259150  1.306081\n",
       "\n",
       "[164 rows x 6 columns]"
      ]
     },
     "execution_count": 12,
     "metadata": {},
     "output_type": "execute_result"
    }
   ],
   "source": [
    "metro_df"
   ]
  },
  {
   "cell_type": "code",
   "execution_count": 13,
   "metadata": {},
   "outputs": [],
   "source": [
    "metro_df.to_csv(\"./metro.csv\")"
   ]
  }
 ],
 "metadata": {
  "kernelspec": {
   "display_name": "quant_trading",
   "language": "python",
   "name": "python3"
  },
  "language_info": {
   "codemirror_mode": {
    "name": "ipython",
    "version": 3
   },
   "file_extension": ".py",
   "mimetype": "text/x-python",
   "name": "python",
   "nbconvert_exporter": "python",
   "pygments_lexer": "ipython3",
   "version": "3.10.13"
  }
 },
 "nbformat": 4,
 "nbformat_minor": 2
}
