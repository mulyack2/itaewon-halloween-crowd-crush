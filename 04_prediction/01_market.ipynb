{
 "cells": [
  {
   "cell_type": "code",
   "execution_count": 13,
   "metadata": {},
   "outputs": [],
   "source": [
    "import pandas as pd\n",
    "\n",
    "from sklearn.cluster import DBSCAN"
   ]
  },
  {
   "cell_type": "code",
   "execution_count": 14,
   "metadata": {},
   "outputs": [],
   "source": [
    "df = pd.read_csv(\n",
    "    \"./../data/raw/market/소상공인시장진흥공단_상가(상권)정보_20220930/소상공인시장진흥공단_상가(상권)정보_서울_202209.csv\"\n",
    ")\n",
    "addr_dict = df.set_index(\"도로명주소\")['지번주소'].to_dict()"
   ]
  },
  {
   "cell_type": "code",
   "execution_count": 15,
   "metadata": {},
   "outputs": [],
   "source": [
    "drink_df = pd.read_csv(\"./../data/preproc/market/drink_df.csv\", index_col=0)"
   ]
  },
  {
   "cell_type": "code",
   "execution_count": 18,
   "metadata": {},
   "outputs": [],
   "source": [
    "eps = 0.005\n",
    "min_samples = 50\n",
    "dbscan = DBSCAN(eps=eps, min_samples=min_samples)\n",
    "\n",
    "drink_df[\"cluster\"] = dbscan.fit_predict(drink_df.loc[:, [\"경도\", \"위도\"]])"
   ]
  },
  {
   "cell_type": "code",
   "execution_count": 5,
   "metadata": {},
   "outputs": [],
   "source": [
    "drink_df = drink_df[drink_df['cluster'] != -1]"
   ]
  },
  {
   "cell_type": "code",
   "execution_count": 6,
   "metadata": {},
   "outputs": [],
   "source": [
    "cluster_std = drink_df.groupby(\"cluster\")[[\"경도\", \"위도\"]].std()\n",
    "cluster_std[\"total\"] = cluster_std.sum(axis=1)\n",
    "cluster_std_df = cluster_std.loc[:,['total']]"
   ]
  },
  {
   "cell_type": "code",
   "execution_count": 7,
   "metadata": {},
   "outputs": [],
   "source": [
    "import numpy as np\n",
    "from scipy.spatial import ConvexHull\n",
    "\n",
    "def estimate_cluster_area(data):\n",
    "    if len(data) == 0:\n",
    "        return 0\n",
    "    if len(data) == 1:\n",
    "        return 0\n",
    "    hull = ConvexHull(data)\n",
    "    return hull.volume\n",
    "\n",
    "\n",
    "cluster_areas = list()\n",
    "for cluster_id, cluster_data in drink_df.groupby(\"cluster\")[[\"위도\", \"경도\"]]:\n",
    "    cluster_area = estimate_cluster_area(cluster_data.values)\n",
    "    cluster_areas.append({\"cluster\": cluster_id, \"cluster_area\": cluster_area})\n",
    "\n",
    "cluster_area_df = pd.DataFrame(cluster_areas).set_index(\"cluster\")"
   ]
  },
  {
   "cell_type": "code",
   "execution_count": 8,
   "metadata": {},
   "outputs": [],
   "source": [
    "from scipy.spatial.distance import euclidean\n",
    "\n",
    "def calc_distance(a, b, target_location):\n",
    "    return euclidean([a, b], target_location)"
   ]
  },
  {
   "cell_type": "code",
   "execution_count": 9,
   "metadata": {},
   "outputs": [],
   "source": [
    "cluster_mean_location = drink_df.groupby(\"cluster\")[[\"경도\", \"위도\"]].mean()"
   ]
  },
  {
   "cell_type": "code",
   "execution_count": 10,
   "metadata": {},
   "outputs": [],
   "source": [
    "result_dict = dict()\n",
    "cluster_ids = cluster_mean_location.index\n",
    "for cluster_id in cluster_ids:\n",
    "    feature_location = cluster_mean_location[\n",
    "        cluster_mean_location.index == cluster_id\n",
    "    ].to_numpy()[0]\n",
    "    target_location_df = cluster_mean_location[\n",
    "        cluster_mean_location.index != cluster_id\n",
    "    ]\n",
    "    cluster_near_3_dist = target_location_df.apply(\n",
    "        lambda x: calc_distance(x[\"경도\"], x[\"위도\"], feature_location),\n",
    "        axis=1,\n",
    "    ).min()\n",
    "    result_dict[cluster_id] = cluster_near_3_dist"
   ]
  },
  {
   "cell_type": "code",
   "execution_count": 11,
   "metadata": {},
   "outputs": [],
   "source": [
    "cluster_distance_df = pd.DataFrame([result_dict]).T\n",
    "cluster_distance_df.index.name = 'cluster'\n",
    "cluster_distance_df.columns = ['distance']"
   ]
  },
  {
   "cell_type": "code",
   "execution_count": 33,
   "metadata": {},
   "outputs": [],
   "source": [
    "cluster_df = pd.concat(\n",
    "    [cluster_std_df, cluster_area_df, cluster_distance_df], axis=1\n",
    ")"
   ]
  },
  {
   "cell_type": "code",
   "execution_count": 34,
   "metadata": {},
   "outputs": [],
   "source": [
    "cluster_df.columns = ['std','area','distance']"
   ]
  },
  {
   "cell_type": "code",
   "execution_count": 35,
   "metadata": {},
   "outputs": [],
   "source": [
    "drink_df['location'] = drink_df[\"도로명주소\"].map(addr_dict)\n",
    "drink_df['location'] = drink_df['location'].apply(lambda x : '_'.join(x.split()[:3]))\n",
    "cluster_location_dict = drink_df.groupby('cluster')['location'].unique()"
   ]
  },
  {
   "cell_type": "code",
   "execution_count": 36,
   "metadata": {},
   "outputs": [],
   "source": [
    "cluster_df['location'] = cluster_df.index.map(cluster_location_dict)"
   ]
  },
  {
   "cell_type": "code",
   "execution_count": 37,
   "metadata": {},
   "outputs": [],
   "source": [
    "cluster_df = cluster_df.explode([\"location\"])"
   ]
  },
  {
   "cell_type": "code",
   "execution_count": 39,
   "metadata": {},
   "outputs": [],
   "source": [
    "cluster_df[\"std\"] = cluster_df[\"std\"] * -1\n",
    "cluster_df[\"area\"] = cluster_df[\"area\"] * -1"
   ]
  },
  {
   "cell_type": "code",
   "execution_count": 40,
   "metadata": {},
   "outputs": [],
   "source": [
    "from sklearn.preprocessing import MinMaxScaler\n",
    "mms = MinMaxScaler()"
   ]
  },
  {
   "cell_type": "code",
   "execution_count": 41,
   "metadata": {},
   "outputs": [],
   "source": [
    "cluster_df.loc[:, [\"std\", \"area\", \"distance\"]] = mms.fit_transform(\n",
    "    cluster_df.loc[:, [\"std\", \"area\", \"distance\"]]\n",
    ")"
   ]
  },
  {
   "cell_type": "code",
   "execution_count": 42,
   "metadata": {},
   "outputs": [],
   "source": [
    "cluster_df[\"sum\"] = cluster_df.loc[:, [\"std\", \"area\", \"distance\"]].sum(axis=1)"
   ]
  },
  {
   "cell_type": "code",
   "execution_count": 43,
   "metadata": {},
   "outputs": [
    {
     "data": {
      "text/html": [
       "<div>\n",
       "<style scoped>\n",
       "    .dataframe tbody tr th:only-of-type {\n",
       "        vertical-align: middle;\n",
       "    }\n",
       "\n",
       "    .dataframe tbody tr th {\n",
       "        vertical-align: top;\n",
       "    }\n",
       "\n",
       "    .dataframe thead th {\n",
       "        text-align: right;\n",
       "    }\n",
       "</style>\n",
       "<table border=\"1\" class=\"dataframe\">\n",
       "  <thead>\n",
       "    <tr style=\"text-align: right;\">\n",
       "      <th></th>\n",
       "      <th>std</th>\n",
       "      <th>area</th>\n",
       "      <th>distance</th>\n",
       "      <th>location</th>\n",
       "      <th>sum</th>\n",
       "    </tr>\n",
       "    <tr>\n",
       "      <th>cluster</th>\n",
       "      <th></th>\n",
       "      <th></th>\n",
       "      <th></th>\n",
       "      <th></th>\n",
       "      <th></th>\n",
       "    </tr>\n",
       "  </thead>\n",
       "  <tbody>\n",
       "    <tr>\n",
       "      <th>0</th>\n",
       "      <td>0.408295</td>\n",
       "      <td>0.514101</td>\n",
       "      <td>0.324689</td>\n",
       "      <td>서울특별시_종로구_종로3가</td>\n",
       "      <td>1.247085</td>\n",
       "    </tr>\n",
       "    <tr>\n",
       "      <th>0</th>\n",
       "      <td>0.408295</td>\n",
       "      <td>0.514101</td>\n",
       "      <td>0.324689</td>\n",
       "      <td>서울특별시_종로구_관수동</td>\n",
       "      <td>1.247085</td>\n",
       "    </tr>\n",
       "    <tr>\n",
       "      <th>0</th>\n",
       "      <td>0.408295</td>\n",
       "      <td>0.514101</td>\n",
       "      <td>0.324689</td>\n",
       "      <td>서울특별시_종로구_효제동</td>\n",
       "      <td>1.247085</td>\n",
       "    </tr>\n",
       "    <tr>\n",
       "      <th>0</th>\n",
       "      <td>0.408295</td>\n",
       "      <td>0.514101</td>\n",
       "      <td>0.324689</td>\n",
       "      <td>서울특별시_중구_충무로5가</td>\n",
       "      <td>1.247085</td>\n",
       "    </tr>\n",
       "    <tr>\n",
       "      <th>0</th>\n",
       "      <td>0.408295</td>\n",
       "      <td>0.514101</td>\n",
       "      <td>0.324689</td>\n",
       "      <td>서울특별시_중구_묵정동</td>\n",
       "      <td>1.247085</td>\n",
       "    </tr>\n",
       "    <tr>\n",
       "      <th>...</th>\n",
       "      <td>...</td>\n",
       "      <td>...</td>\n",
       "      <td>...</td>\n",
       "      <td>...</td>\n",
       "      <td>...</td>\n",
       "    </tr>\n",
       "    <tr>\n",
       "      <th>40</th>\n",
       "      <td>0.841183</td>\n",
       "      <td>0.948462</td>\n",
       "      <td>0.164763</td>\n",
       "      <td>서울특별시_중랑구_상봉동</td>\n",
       "      <td>1.954408</td>\n",
       "    </tr>\n",
       "    <tr>\n",
       "      <th>40</th>\n",
       "      <td>0.841183</td>\n",
       "      <td>0.948462</td>\n",
       "      <td>0.164763</td>\n",
       "      <td>서울특별시_중랑구_면목동</td>\n",
       "      <td>1.954408</td>\n",
       "    </tr>\n",
       "    <tr>\n",
       "      <th>40</th>\n",
       "      <td>0.841183</td>\n",
       "      <td>0.948462</td>\n",
       "      <td>0.164763</td>\n",
       "      <td>서울특별시_중랑구_중화동</td>\n",
       "      <td>1.954408</td>\n",
       "    </tr>\n",
       "    <tr>\n",
       "      <th>41</th>\n",
       "      <td>0.919094</td>\n",
       "      <td>0.976159</td>\n",
       "      <td>0.000000</td>\n",
       "      <td>서울특별시_노원구_공릉동</td>\n",
       "      <td>1.895253</td>\n",
       "    </tr>\n",
       "    <tr>\n",
       "      <th>42</th>\n",
       "      <td>0.939253</td>\n",
       "      <td>0.987806</td>\n",
       "      <td>0.224890</td>\n",
       "      <td>서울특별시_관악구_신림동</td>\n",
       "      <td>2.151949</td>\n",
       "    </tr>\n",
       "  </tbody>\n",
       "</table>\n",
       "<p>274 rows × 5 columns</p>\n",
       "</div>"
      ],
      "text/plain": [
       "              std      area  distance        location       sum\n",
       "cluster                                                        \n",
       "0        0.408295  0.514101  0.324689  서울특별시_종로구_종로3가  1.247085\n",
       "0        0.408295  0.514101  0.324689   서울특별시_종로구_관수동  1.247085\n",
       "0        0.408295  0.514101  0.324689   서울특별시_종로구_효제동  1.247085\n",
       "0        0.408295  0.514101  0.324689  서울특별시_중구_충무로5가  1.247085\n",
       "0        0.408295  0.514101  0.324689    서울특별시_중구_묵정동  1.247085\n",
       "...           ...       ...       ...             ...       ...\n",
       "40       0.841183  0.948462  0.164763   서울특별시_중랑구_상봉동  1.954408\n",
       "40       0.841183  0.948462  0.164763   서울특별시_중랑구_면목동  1.954408\n",
       "40       0.841183  0.948462  0.164763   서울특별시_중랑구_중화동  1.954408\n",
       "41       0.919094  0.976159  0.000000   서울특별시_노원구_공릉동  1.895253\n",
       "42       0.939253  0.987806  0.224890   서울특별시_관악구_신림동  2.151949\n",
       "\n",
       "[274 rows x 5 columns]"
      ]
     },
     "execution_count": 43,
     "metadata": {},
     "output_type": "execute_result"
    }
   ],
   "source": [
    "cluster_df"
   ]
  },
  {
   "cell_type": "code",
   "execution_count": 44,
   "metadata": {},
   "outputs": [],
   "source": [
    "cluster_df = cluster_df.sort_values(\"sum\").drop_duplicates(\n",
    "    subset=[\"location\"], keep=\"last\"\n",
    ")"
   ]
  },
  {
   "cell_type": "code",
   "execution_count": 45,
   "metadata": {},
   "outputs": [],
   "source": [
    "market_df = cluster_df.drop(columns=['sum']).set_index(\"location\")"
   ]
  },
  {
   "cell_type": "code",
   "execution_count": 46,
   "metadata": {},
   "outputs": [],
   "source": [
    "market_df.to_csv(\"./market.csv\")"
   ]
  }
 ],
 "metadata": {
  "kernelspec": {
   "display_name": "quant_trading",
   "language": "python",
   "name": "python3"
  },
  "language_info": {
   "codemirror_mode": {
    "name": "ipython",
    "version": 3
   },
   "file_extension": ".py",
   "mimetype": "text/x-python",
   "name": "python",
   "nbconvert_exporter": "python",
   "pygments_lexer": "ipython3",
   "version": "3.10.13"
  }
 },
 "nbformat": 4,
 "nbformat_minor": 2
}
