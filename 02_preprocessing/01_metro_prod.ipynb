{
 "cells": [
  {
   "cell_type": "code",
   "execution_count": 1,
   "metadata": {},
   "outputs": [],
   "source": [
    "import os\n",
    "from glob import glob\n",
    "import numpy as np\n",
    "import pandas as pd\n",
    "from tqdm import tqdm"
   ]
  },
  {
   "cell_type": "code",
   "execution_count": 2,
   "metadata": {},
   "outputs": [],
   "source": [
    "class MetroPreproc:\n",
    "    def __init__(self, metro_df, time_columns) -> None:\n",
    "        self.metro_df = metro_df\n",
    "        self.time_columns = time_columns\n",
    "\n",
    "    @staticmethod\n",
    "    def __format_date(df):\n",
    "        df[\"날짜\"] = pd.to_datetime(df[\"날짜\"])\n",
    "        return df\n",
    "\n",
    "    @staticmethod\n",
    "    def __concat_line(df, time_columns):\n",
    "        main_df = pd.merge(\n",
    "            left=df.drop(columns=time_columns),\n",
    "            right=df.groupby([\"날짜\", \"역명\", \"구분\"])[time_columns]\n",
    "            .sum()\n",
    "            .reset_index(),\n",
    "            on=[\"날짜\", \"역명\", \"구분\"],\n",
    "        ).drop(columns=[\"호선\"])\n",
    "        return main_df\n",
    "\n",
    "    def __call__(self):\n",
    "        df = self.metro_df.copy()\n",
    "        time_columns = self.time_columns.copy()\n",
    "        df = self.__format_date(df)\n",
    "        df = self.__concat_line(df, time_columns)\n",
    "        return df"
   ]
  },
  {
   "cell_type": "code",
   "execution_count": 3,
   "metadata": {},
   "outputs": [],
   "source": [
    "class CalcMetroOutlierScore:\n",
    "    \"\"\"Return Score of out's outlier\"\"\"\n",
    "\n",
    "    def __init__(self, metro_df, time_columns) -> None:\n",
    "        self.metro_df = metro_df\n",
    "        self.time_columns = time_columns\n",
    "        self.metro_out_df = self.__append_total_out(\n",
    "            self.__filter_out(metro_df), time_columns\n",
    "        )\n",
    "\n",
    "    @staticmethod\n",
    "    def __filter_out(metro_df):\n",
    "        metro_out_df = metro_df[metro_df[\"구분\"] == \"하차\"].copy()\n",
    "        return metro_out_df\n",
    "\n",
    "    @staticmethod\n",
    "    def __append_total_out(metro_out_df, time_columns):\n",
    "        metro_out_df[\"total_out\"] = metro_out_df[time_columns].sum(axis=1)\n",
    "        return metro_out_df\n",
    "\n",
    "    def calc_max_out(self):\n",
    "        # 각 역별 일일 최대 하차 수\n",
    "        station_max_out_size = self.metro_out_df.groupby(\"역명\")[\n",
    "            \"total_out\"\n",
    "        ].max()\n",
    "        return station_max_out_size\n",
    "\n",
    "    def calc_mean_out(self):\n",
    "        # 각 역별 일일 평균 하차 수\n",
    "        station_mean_out_size = self.metro_out_df.groupby(\"역명\")[\n",
    "            \"total_out\"\n",
    "        ].mean()\n",
    "        return station_mean_out_size\n",
    "\n",
    "    def calc_max_out_date(self):\n",
    "        metro_out_df = self.metro_out_df.copy()\n",
    "        station_max_out_date = metro_out_df.loc[\n",
    "            metro_out_df.groupby(\"역명\")[\"total_out\"].idxmax(), :\n",
    "        ].set_index(\"역명\")[\"날짜\"]\n",
    "        return station_max_out_date\n",
    "\n",
    "    def __call__(self):\n",
    "        max_out = self.calc_max_out()\n",
    "        mean_out = self.calc_mean_out()\n",
    "        outlier_out_score = max_out.div(mean_out)\n",
    "        return outlier_out_score"
   ]
  },
  {
   "cell_type": "code",
   "execution_count": 4,
   "metadata": {},
   "outputs": [],
   "source": [
    "# Code"
   ]
  },
  {
   "cell_type": "code",
   "execution_count": 5,
   "metadata": {},
   "outputs": [
    {
     "name": "stderr",
     "output_type": "stream",
     "text": [
      " 83%|████████▎ | 5/6 [00:02<00:00,  2.10it/s]/var/folders/c4/g1mnjj6x6d1_205z6bzrtjr80000gn/T/ipykernel_44512/2656399875.py:11: DtypeWarning: Columns (3) have mixed types. Specify dtype option on import or set low_memory=False.\n",
      "  df = pd.read_csv(file_path, index_col=0)\n",
      "100%|██████████| 6/6 [00:02<00:00,  2.04it/s]\n"
     ]
    }
   ],
   "source": [
    "time_columns = [\n",
    "    \"05~06\", \"06~07\", \"07~08\", \"08~09\", \"09~10\", \"10~11\", \"11~12\",\n",
    "    \"12~13\", \"13~14\", \"14~15\", \"15~16\", \"16~17\", \"17~18\", \"18~19\",\n",
    "    \"19~20\", \"20~21\", \"21~22\", \"22~23\", \"23~24\", \"00~01\"\n",
    "    ]\n",
    "\n",
    "file_paths = sorted(glob(\"./../data/preproc/metro/*.csv\"))\n",
    "\n",
    "results = list()\n",
    "for file_path in tqdm(file_paths):\n",
    "    df = pd.read_csv(file_path, index_col=0)\n",
    "    \n",
    "    metro_preproc = MetroPreproc(df, time_columns)\n",
    "    metro_df = metro_preproc()\n",
    "\n",
    "    calc_metro_outlier_score = CalcMetroOutlierScore(metro_df, time_columns)\n",
    "    metro_outlier_df = pd.concat(\n",
    "        [calc_metro_outlier_score.calc_max_out_date(), calc_metro_outlier_score()],\n",
    "        axis=1,\n",
    "    )\n",
    "    results.append(metro_outlier_df)"
   ]
  },
  {
   "cell_type": "code",
   "execution_count": 6,
   "metadata": {},
   "outputs": [],
   "source": [
    "metro_final_df = pd.concat(results)"
   ]
  },
  {
   "cell_type": "code",
   "execution_count": 7,
   "metadata": {},
   "outputs": [],
   "source": [
    "metro_final_df.to_csv(\"./../data/preproc/metro/metro_v1_final.csv\")"
   ]
  }
 ],
 "metadata": {
  "kernelspec": {
   "display_name": "quant_trading",
   "language": "python",
   "name": "python3"
  },
  "language_info": {
   "codemirror_mode": {
    "name": "ipython",
    "version": 3
   },
   "file_extension": ".py",
   "mimetype": "text/x-python",
   "name": "python",
   "nbconvert_exporter": "python",
   "pygments_lexer": "ipython3",
   "version": "3.10.13"
  }
 },
 "nbformat": 4,
 "nbformat_minor": 2
}
