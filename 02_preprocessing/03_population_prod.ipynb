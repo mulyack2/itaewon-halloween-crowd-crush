{
 "cells": [
  {
   "cell_type": "code",
   "execution_count": 1,
   "metadata": {},
   "outputs": [],
   "source": [
    "from glob import glob\n",
    "\n",
    "import pandas as pd\n",
    "from tqdm import tqdm"
   ]
  },
  {
   "cell_type": "code",
   "execution_count": 2,
   "metadata": {},
   "outputs": [],
   "source": [
    "class DongCodePreproc:\n",
    "    def __init__(self, dong_code_df) -> None:\n",
    "        self.dong_code_df = dong_code_df\n",
    "\n",
    "    @staticmethod\n",
    "    def __format_code(dong_code_df):\n",
    "        dong_code_df[\"code\"] = (\n",
    "            dong_code_df[\"행정동코드\"].astype(str).apply(lambda x: x[:-2])\n",
    "        )\n",
    "        return dong_code_df\n",
    "\n",
    "    @staticmethod\n",
    "    def __format_name(dong_code_df):\n",
    "        dong_code_df[\"name\"] = (\n",
    "            dong_code_df[[\"시도명\", \"시군구명\", \"읍면동명\"]]\n",
    "            .fillna(\"\")\n",
    "            .agg(\"_\".join, axis=1)\n",
    "        )\n",
    "        return dong_code_df\n",
    "\n",
    "    def get_code_name_dict(self):\n",
    "        df = self.dong_code_df.copy()\n",
    "        df = self.__format_code(df)\n",
    "        df = self.__format_name(df)\n",
    "        code_name_dict = df.set_index(\"code\")[\"name\"].to_dict()\n",
    "        return code_name_dict"
   ]
  },
  {
   "cell_type": "code",
   "execution_count": 3,
   "metadata": {},
   "outputs": [],
   "source": [
    "class PopulationPreproc:\n",
    "    def __init__(self, ppltn_df) -> None:\n",
    "        self.ppltn_df = ppltn_df\n",
    "\n",
    "    @staticmethod\n",
    "    def __format_date(ppltn_df):\n",
    "        ppltn_df[\"date\"] = ppltn_df[\"기준일ID\"].astype(str) + ppltn_df[\n",
    "            \"시간대구분\"\n",
    "        ].astype(str).apply(lambda x: x.zfill(2))\n",
    "        ppltn_df[\"date\"] = pd.to_datetime(ppltn_df[\"date\"], format=\"%Y%m%d%H\")\n",
    "        ppltn_df.drop(columns=[\"기준일ID\", \"시간대구분\"], inplace=True)\n",
    "        return ppltn_df\n",
    "\n",
    "    @staticmethod\n",
    "    def __format_code(ppltn_df):\n",
    "        ppltn_df[\"행정동코드\"] = ppltn_df[\"행정동코드\"].astype(str)\n",
    "        return ppltn_df\n",
    "\n",
    "    @staticmethod\n",
    "    def __merge_man(ppltn_df, man_columns):\n",
    "        ppltn_df[\"man\"] = ppltn_df[man_columns].sum(axis=1)\n",
    "        ppltn_df.drop(columns=man_columns, inplace=True)\n",
    "        return ppltn_df\n",
    "\n",
    "    @staticmethod\n",
    "    def __merge_woman(ppltn_df, woman_columns):\n",
    "        ppltn_df[\"woman\"] = ppltn_df[woman_columns].sum(axis=1)\n",
    "        ppltn_df.drop(columns=woman_columns, inplace=True)\n",
    "        return ppltn_df\n",
    "\n",
    "    def __call__(self, man_columns, woman_columns):\n",
    "        df = self.__format_date(self.ppltn_df)\n",
    "        df = self.__format_code(df)\n",
    "        df = self.__merge_man(df, man_columns)\n",
    "        df = self.__merge_woman(df, woman_columns)\n",
    "        df.reset_index(drop=True, inplace=True)\n",
    "        return df"
   ]
  },
  {
   "cell_type": "code",
   "execution_count": 4,
   "metadata": {},
   "outputs": [],
   "source": [
    "class CalcDongOutlierScore:\n",
    "    def __init__(self, ppltn_df) -> None:\n",
    "        self.ppltn_df = ppltn_df\n",
    "\n",
    "    def calc_mean_size(self):\n",
    "        dong_mean_size = self.ppltn_df.groupby(\"행정동코드\")[\n",
    "            \"총생활인구수\"\n",
    "        ].mean()\n",
    "        return dong_mean_size\n",
    "\n",
    "    def calc_max_size(self):\n",
    "        dong_max_size = self.ppltn_df.groupby(\"행정동코드\")[\n",
    "            \"총생활인구수\"\n",
    "        ].max()\n",
    "        return dong_max_size\n",
    "\n",
    "    def calc_max_size_time(self):\n",
    "        ppltn_df = self.ppltn_df\n",
    "        max_size_time = ppltn_df.loc[\n",
    "            ppltn_df.groupby(\"행정동코드\")[\"총생활인구수\"].idxmax(), :\n",
    "        ].set_index(\"행정동코드\")[\"date\"]\n",
    "        return max_size_time\n",
    "    "
   ]
  },
  {
   "cell_type": "code",
   "execution_count": 5,
   "metadata": {},
   "outputs": [],
   "source": [
    "man_columns = [\n",
    "    \"남자0세부터9세생활인구수\",\n",
    "    \"남자10세부터14세생활인구수\",\n",
    "    \"남자15세부터19세생활인구수\",\n",
    "    \"남자20세부터24세생활인구수\",\n",
    "    \"남자25세부터29세생활인구수\",\n",
    "    \"남자30세부터34세생활인구수\",\n",
    "    \"남자35세부터39세생활인구수\",\n",
    "    \"남자40세부터44세생활인구수\",\n",
    "    \"남자45세부터49세생활인구수\",\n",
    "    \"남자50세부터54세생활인구수\",\n",
    "    \"남자55세부터59세생활인구수\",\n",
    "    \"남자60세부터64세생활인구수\",\n",
    "    \"남자65세부터69세생활인구수\",\n",
    "    \"남자70세이상생활인구수\",\n",
    "]\n",
    "\n",
    "woman_columns = [\n",
    "    \"여자0세부터9세생활인구수\",\n",
    "    \"여자10세부터14세생활인구수\",\n",
    "    \"여자15세부터19세생활인구수\",\n",
    "    \"여자20세부터24세생활인구수\",\n",
    "    \"여자25세부터29세생활인구수\",\n",
    "    \"여자30세부터34세생활인구수\",\n",
    "    \"여자35세부터39세생활인구수\",\n",
    "    \"여자40세부터44세생활인구수\",\n",
    "    \"여자45세부터49세생활인구수\",\n",
    "    \"여자50세부터54세생활인구수\",\n",
    "    \"여자55세부터59세생활인구수\",\n",
    "    \"여자60세부터64세생활인구수\",\n",
    "    \"여자65세부터69세생활인구수\",\n",
    "    \"여자70세이상생활인구수\",\n",
    "]"
   ]
  },
  {
   "cell_type": "code",
   "execution_count": 6,
   "metadata": {},
   "outputs": [],
   "source": [
    "dong_code_df = pd.read_excel(\"./../data/asset/KIKcd_H.20240208.xlsx\")\n",
    "\n",
    "dong_code_preproc = DongCodePreproc(dong_code_df)\n",
    "code_name_dict = dong_code_preproc.get_code_name_dict()"
   ]
  },
  {
   "cell_type": "code",
   "execution_count": 7,
   "metadata": {},
   "outputs": [],
   "source": [
    "file_paths = sorted(glob(\"./../data/preproc/population/*.csv\"))"
   ]
  },
  {
   "cell_type": "code",
   "execution_count": 8,
   "metadata": {},
   "outputs": [
    {
     "name": "stderr",
     "output_type": "stream",
     "text": [
      "  0%|          | 0/3 [00:00<?, ?it/s]"
     ]
    },
    {
     "name": "stderr",
     "output_type": "stream",
     "text": [
      "100%|██████████| 3/3 [00:30<00:00, 10.09s/it]\n"
     ]
    }
   ],
   "source": [
    "results = list()\n",
    "for file_path in tqdm(file_paths):\n",
    "    df = pd.read_csv(file_path, index_col=0)\n",
    "    #    \n",
    "    population_preproc = PopulationPreproc(df)\n",
    "    ppltn_df = population_preproc(man_columns, woman_columns)    \n",
    "    \n",
    "    #\n",
    "    calc_dong_outlier_score = CalcDongOutlierScore(ppltn_df)\n",
    "    dong_max_size = calc_dong_outlier_score.calc_max_size()\n",
    "    dong_mean_size = calc_dong_outlier_score.calc_mean_size()\n",
    "    dong_max_size_time = calc_dong_outlier_score.calc_max_size_time()\n",
    "    #\n",
    "    dong_outlier_df = pd.concat(\n",
    "        [dong_max_size.div(dong_mean_size), dong_max_size_time], axis=1\n",
    "    )\n",
    "    results.append(dong_outlier_df)"
   ]
  },
  {
   "cell_type": "code",
   "execution_count": 9,
   "metadata": {},
   "outputs": [],
   "source": [
    "dong_final_df = pd.concat(results)"
   ]
  },
  {
   "cell_type": "code",
   "execution_count": 10,
   "metadata": {},
   "outputs": [],
   "source": [
    "dong_final_df.index = dong_final_df.index.map(code_name_dict)"
   ]
  },
  {
   "cell_type": "code",
   "execution_count": 11,
   "metadata": {},
   "outputs": [],
   "source": [
    "dong_final_df.to_csv(\"./../data/preproc/population/population_v1_final.csv\")"
   ]
  }
 ],
 "metadata": {
  "kernelspec": {
   "display_name": "quant_trading",
   "language": "python",
   "name": "python3"
  },
  "language_info": {
   "codemirror_mode": {
    "name": "ipython",
    "version": 3
   },
   "file_extension": ".py",
   "mimetype": "text/x-python",
   "name": "python",
   "nbconvert_exporter": "python",
   "pygments_lexer": "ipython3",
   "version": "3.10.13"
  }
 },
 "nbformat": 4,
 "nbformat_minor": 2
}
